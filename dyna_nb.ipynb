{
 "cells": [
  {
   "cell_type": "code",
   "execution_count": 1,
   "metadata": {},
   "outputs": [],
   "source": [
    "import numpy as np\n",
    "import gymnasium as gym\n",
    "import matplotlib.pyplot as plt\n",
    "from time import time\n",
    "from tqdm import tqdm\n",
    "import os\n",
    "import pickle\n",
    "\n",
    "%load_ext autoreload\n",
    "%autoreload 2"
   ]
  },
  {
   "cell_type": "code",
   "execution_count": 2,
   "metadata": {},
   "outputs": [],
   "source": [
    "env = gym.make('MountainCar-v0', render_mode=\"human\")"
   ]
  },
  {
   "cell_type": "code",
   "execution_count": 3,
   "metadata": {},
   "outputs": [
    {
     "name": "stdout",
     "output_type": "stream",
     "text": [
      "Action space: Discrete(3)\n",
      "Observation space: Box([-1.2  -0.07], [0.6  0.07], (2,), float32)\n"
     ]
    }
   ],
   "source": [
    "print(f\"Action space: {env.action_space}\")\n",
    "print(f\"Observation space: {env.observation_space}\")"
   ]
  },
  {
   "cell_type": "code",
   "execution_count": 4,
   "metadata": {},
   "outputs": [
    {
     "name": "stdout",
     "output_type": "stream",
     "text": [
      "Starting state: [-0.5782474  0.       ]\n"
     ]
    }
   ],
   "source": [
    "starting_state, _ = env.reset() \n",
    "\n",
    "print(f\"Starting state: {starting_state}\")"
   ]
  },
  {
   "cell_type": "code",
   "execution_count": 46,
   "metadata": {},
   "outputs": [],
   "source": [
    "class DynaAgent():\n",
    "    def __init__(self,env,size_bin_x=0.025,size_bin_y=0.005,epsilon_start=0.9,epsilon_end=0.05,alpha=0.1,gamma=0.99,k=5):\n",
    "        self.env = env\n",
    "        \n",
    "        self.n_bins_x = int((env.observation_space.high[0]-env.observation_space.low[0])/size_bin_x)\n",
    "        # print(f\"Number of bins in x: {self.n_bins_x}\")\n",
    "        # print((env.observation_space.high[0]-env.observation_space.low[0])/size_bin_x)\n",
    "        assert (env.observation_space.high[0]-env.observation_space.low[0])/size_bin_x-self.n_bins_x<1e-5 , \"size_bin_x is not a divisor of the range of the x axis\"\n",
    "        self.n_bins_y= int((env.observation_space.high[1]-env.observation_space.low[1])/size_bin_y)\n",
    "        assert (env.observation_space.high[1]-env.observation_space.low[1])/size_bin_y-self.n_bins_y<1e-5 , \"size_bin_y is not a divisor of the range of the y axis\"\n",
    "        self.disc_step=np.array([size_bin_x,size_bin_y])\n",
    "        self.x_bins = np.linspace(env.observation_space.low[0],env.observation_space.high[0],self.n_bins_x+1)\n",
    "        self.y_bins= np.linspace(env.observation_space.low[1],env.observation_space.high[1],self.n_bins_y+1)\n",
    "        \n",
    "    \n",
    "        self.epsilon_start = epsilon_start\n",
    "        self.epsilon_end = epsilon_end\n",
    "        self.alpha = alpha\n",
    "        self.gamma = gamma\n",
    "        self.k=k\n",
    "        self.n_states= (self.n_bins_x+1)*(self.n_bins_y+1)\n",
    "        self.counts_total=np.zeros((self.n_states,3))\n",
    "        self.counts_transition=np.zeros((self.n_states,3,self.n_states))\n",
    "        self.P=np.ones((self.n_states,3,self.n_states))*1/self.n_states\n",
    "        self.R=np.zeros((self.n_states,3))\n",
    "        self.Q=np.zeros((self.n_states,3))\n",
    "        self.model = {}\n",
    "        self.last_reward_step=0\n",
    "        self.timesteps_per_reward=[]\n",
    "        \n",
    "        self.state_action_pairs_encontered = []\n",
    "        \n",
    "        self.state=self.discretize_position(env.reset()[0])\n",
    "    def discretize_position(self,position):\n",
    "        # if np.digitize(position[0],self.x_bins)*np.digitize(position[1],self.y_bins)+np.digitize(position[1],self.y_bins)>=2016:\n",
    "        #     print(np.digitize(position[0],self.x_bins)*np.digitize(position[1],self.y_bins)+np.digitize(position[1],self.y_bins))\n",
    "        #     raise ValueError(f\"position: {position} is out of bounds\")\n",
    "        return np.digitize(position[0],self.x_bins)+np.digitize(position[1],self.y_bins)*(self.n_bins_x+1)\n",
    "    \n",
    "    def update_P(self,state,action,next_state):\n",
    "        self.counts_total[state,action]+=1\n",
    "        self.counts_transition[state,action,next_state]+=1\n",
    "        self.P[state,action,next_state]=self.P[state,action,next_state]+self.counts_transition[state,action,next_state]/(1+self.counts_total[state,action])\n",
    "        self.P[state,action]/=np.sum(self.P[state,action])\n",
    "        pass\n",
    "    \n",
    "    def update_R(self,state,action,reward):\n",
    "        self.R[state,action] = (self.R[state,action]*(self.counts_total[state,action]-1)+reward)/self.counts_total[state,action]\n",
    "        pass\n",
    "    \n",
    "    def update_Q(self,state,action):\n",
    "        self.Q[state][action]=self.R[state,action]+self.gamma*np.sum(self.P[state,action]*np.max(self.Q,axis=1))\n",
    "        pass\n",
    "        \n",
    "    def update_step(self,epsilon):\n",
    "        state=self.state\n",
    "        if np.random.rand()<epsilon:\n",
    "            action = np.random.choice([0,1,2])\n",
    "        else:\n",
    "            action = np.argmax(self.Q[state])\n",
    "        self.state_action_pairs_encontered.append((state,action))\n",
    "            \n",
    "        next_state, reward, done, _ ,_= self.env.step(action)\n",
    "        #print(next_state)\n",
    "        next_state=self.discretize_position(next_state)\n",
    "        #self.Q[state][action] += self.alpha*(reward+self.gamma*np.max(self.Q[next_state])-self.Q[state][action])# TO DOOOOOOOOOOOOOOto be changeddddddd\n",
    "        self.update_P(state,action,next_state)\n",
    "        self.update_R(state,action,reward)\n",
    "        #self.Q[state][action] = self.Q[state][action]+self.alpha*(reward+self.gamma*np.max(self.Q[next_state])-self.Q[state][action])\n",
    "        self.update_Q(state,action)\n",
    "        \n",
    "        self.state=next_state\n",
    "        \n",
    "        for planning_step in range(self.k):\n",
    "            state,action = self.state_action_pairs_encontered[np.random.choice(len(self.state_action_pairs_encontered))]\n",
    "            reward = self.R[state,action]\n",
    "            self.Q[state][action] =reward+self.gamma*np.sum(self.P[state,action]*np.max(self.Q,axis=1))#TO DOOOOOOOOOOOOOOOOOOOOOOOto be chnageddddddddddddddd\n",
    "        \n",
    "        return done\n",
    "    \n",
    "    def training(self,n_steps,reset=True):\n",
    "        print(\"Training...\")\n",
    "        if reset:\n",
    "            self.state=self.discretize_position(env.reset()[0])\n",
    "        else:\n",
    "            pass\n",
    "        epsilon = self.epsilon_start\n",
    "        \n",
    "        \n",
    "        for i in tqdm(range(n_steps)):\n",
    "            done=self.update_step(epsilon)\n",
    "            if done:\n",
    "                print(f\"Episode finished after {i} timesteps\")\n",
    "                self.timesteps_per_reward.append((i,i-self.last_reward_step))\n",
    "                self.last_reward_step=i\n",
    "                self.state=self.discretize_position(env.reset()[0])\n",
    "            #epsilon exponential decay:\n",
    "            epsilon = self.epsilon_end+(self.epsilon_start-self.epsilon_end)*np.exp(-i/1000)\n",
    "            # if i%1000==0:\n",
    "            #     print(np.max(self.Q))\n",
    "            \n",
    "        pass\n",
    "    \n",
    "    \n",
    "    def inference(self,max_steps):\n",
    "        frames=[]\n",
    "        state=self.discretize_position(self.env.reset()[0])\n",
    "        tot_reward=0\n",
    "        frames.append(self.env.render(mode=\"rgb_array\"))\n",
    "        self.env.render()\n",
    "        for i in tqdm(range(max_steps)):\n",
    "            action = np.argmax(self.Q[state])\n",
    "            next_state, reward, done, _ ,_= self.env.step(action)\n",
    "            next_state=self.discretize_position(next_state)\n",
    "            frames.append(self.env.render(mode=\"rgb_array\"))\n",
    "            tot_reward+=reward\n",
    "            state=next_state\n",
    "            if done:\n",
    "                print(f\"Episode finished after {i} timesteps\")\n",
    "                break\n",
    "        print(f'total reward: {tot_reward}')\n",
    "        return frames,tot_reward\n",
    "    \n",
    "    def save_agent(self,path):\n",
    "        if not os.path.exists(\"agents_saved/\"+path+\"/\"):\n",
    "            os.makedirs(\"agents_saved/\"+path+\"/\")\n",
    "        path=\"agents_saved/\"+path+\"/\"\n",
    "        np.save(path+\"_P.npy\",self.P)\n",
    "        np.save(path+\"_Q.npy\",self.Q)\n",
    "        np.save(path+\"_R.npy\",self.R)\n",
    "        #store it as pickle\n",
    "        pickle.dump(self.state_action_pairs_encontered, open(path+\"_state_action_pairs_encontered.pkl\", 'wb'))\n",
    "        np.save(path+\"_counts_total.npy\",self.counts_total)\n",
    "        np.save(path+\"_counts_transition.npy\",self.counts_transition)\n",
    "        pass\n",
    "    \n",
    "    def load_agent(self,path):\n",
    "        path=\"agents_saved/\"+path+\"/\"\n",
    "        self.P=np.load(path+\"_P.npy\")\n",
    "        self.Q=np.load(path+\"_Q.npy\")\n",
    "        self.R=np.load(path+\"_R.npy\")\n",
    "        #self.state_action_pairs_encontered=np.load(path+\"_state_action_pairs_encontered.npy\")\n",
    "        with open(path+\"_state_action_pairs_encontered.pkl\", 'rb') as f:\n",
    "            self.state_action_pairs_encontered = pickle.load(f)\n",
    "        self.counts_total=np.load(path+\"_counts_total.npy\")\n",
    "        self.counts_transition=np.load(path+\"_counts_transition.npy\")\n",
    "        pass"
   ]
  },
  {
   "cell_type": "code",
   "execution_count": 47,
   "metadata": {},
   "outputs": [],
   "source": [
    "env = gym.make('MountainCar-v0', render_mode=\"human\")\n",
    "dyna_agent=DynaAgent(env)\n"
   ]
  },
  {
   "cell_type": "code",
   "execution_count": 48,
   "metadata": {},
   "outputs": [
    {
     "name": "stdout",
     "output_type": "stream",
     "text": [
      "Training...\n"
     ]
    },
    {
     "name": "stderr",
     "output_type": "stream",
     "text": [
      " 31%|███       | 9284/30000 [05:26<12:21, 27.95it/s]  "
     ]
    },
    {
     "name": "stdout",
     "output_type": "stream",
     "text": [
      "Episode finished after 9279 timesteps\n"
     ]
    },
    {
     "name": "stderr",
     "output_type": "stream",
     "text": [
      " 45%|████▌     | 13543/30000 [07:49<10:01, 27.38it/s]"
     ]
    },
    {
     "name": "stdout",
     "output_type": "stream",
     "text": [
      "Episode finished after 13540 timesteps\n"
     ]
    },
    {
     "name": "stderr",
     "output_type": "stream",
     "text": [
      " 49%|████▉     | 14753/30000 [08:30<09:05, 27.95it/s]"
     ]
    },
    {
     "name": "stdout",
     "output_type": "stream",
     "text": [
      "Episode finished after 14749 timesteps\n"
     ]
    },
    {
     "name": "stderr",
     "output_type": "stream",
     "text": [
      " 52%|█████▏    | 15737/30000 [09:03<08:33, 27.78it/s]"
     ]
    },
    {
     "name": "stdout",
     "output_type": "stream",
     "text": [
      "Episode finished after 15733 timesteps\n"
     ]
    },
    {
     "name": "stderr",
     "output_type": "stream",
     "text": [
      " 56%|█████▌    | 16716/30000 [09:36<07:55, 27.95it/s]"
     ]
    },
    {
     "name": "stdout",
     "output_type": "stream",
     "text": [
      "Episode finished after 16712 timesteps\n"
     ]
    },
    {
     "name": "stderr",
     "output_type": "stream",
     "text": [
      " 60%|██████    | 18030/30000 [10:20<07:09, 27.84it/s]"
     ]
    },
    {
     "name": "stdout",
     "output_type": "stream",
     "text": [
      "Episode finished after 18024 timesteps\n"
     ]
    },
    {
     "name": "stderr",
     "output_type": "stream",
     "text": [
      " 62%|██████▏   | 18662/30000 [10:41<06:56, 27.25it/s]"
     ]
    },
    {
     "name": "stdout",
     "output_type": "stream",
     "text": [
      "Episode finished after 18659 timesteps\n"
     ]
    },
    {
     "name": "stderr",
     "output_type": "stream",
     "text": [
      " 64%|██████▍   | 19329/30000 [11:04<06:21, 27.99it/s]"
     ]
    },
    {
     "name": "stdout",
     "output_type": "stream",
     "text": [
      "Episode finished after 19325 timesteps\n"
     ]
    },
    {
     "name": "stderr",
     "output_type": "stream",
     "text": [
      " 68%|██████▊   | 20326/30000 [11:37<05:48, 27.78it/s]"
     ]
    },
    {
     "name": "stdout",
     "output_type": "stream",
     "text": [
      "Episode finished after 20322 timesteps\n"
     ]
    },
    {
     "name": "stderr",
     "output_type": "stream",
     "text": [
      " 70%|██████▉   | 20872/30000 [11:56<05:25, 28.04it/s]"
     ]
    },
    {
     "name": "stdout",
     "output_type": "stream",
     "text": [
      "Episode finished after 20866 timesteps\n"
     ]
    },
    {
     "name": "stderr",
     "output_type": "stream",
     "text": [
      " 72%|███████▏  | 21573/30000 [12:20<05:16, 26.60it/s]"
     ]
    },
    {
     "name": "stdout",
     "output_type": "stream",
     "text": [
      "Episode finished after 21571 timesteps\n"
     ]
    },
    {
     "name": "stderr",
     "output_type": "stream",
     "text": [
      " 77%|███████▋  | 23198/30000 [13:15<04:08, 27.35it/s]"
     ]
    },
    {
     "name": "stdout",
     "output_type": "stream",
     "text": [
      "Episode finished after 23196 timesteps\n"
     ]
    },
    {
     "name": "stderr",
     "output_type": "stream",
     "text": [
      " 84%|████████▍ | 25237/30000 [14:23<02:50, 27.99it/s]"
     ]
    },
    {
     "name": "stdout",
     "output_type": "stream",
     "text": [
      "Episode finished after 25232 timesteps\n"
     ]
    },
    {
     "name": "stderr",
     "output_type": "stream",
     "text": [
      " 87%|████████▋ | 26243/30000 [14:58<02:46, 22.52it/s]"
     ]
    },
    {
     "name": "stdout",
     "output_type": "stream",
     "text": [
      "Episode finished after 26239 timesteps\n"
     ]
    },
    {
     "name": "stderr",
     "output_type": "stream",
     "text": [
      " 89%|████████▉ | 26674/30000 [15:14<02:48, 19.68it/s]"
     ]
    },
    {
     "name": "stdout",
     "output_type": "stream",
     "text": [
      "Episode finished after 26673 timesteps\n"
     ]
    },
    {
     "name": "stderr",
     "output_type": "stream",
     "text": [
      " 91%|█████████ | 27179/30000 [15:31<01:40, 28.08it/s]"
     ]
    },
    {
     "name": "stdout",
     "output_type": "stream",
     "text": [
      "Episode finished after 27174 timesteps\n"
     ]
    },
    {
     "name": "stderr",
     "output_type": "stream",
     "text": [
      " 93%|█████████▎| 27962/30000 [15:57<01:12, 28.23it/s]"
     ]
    },
    {
     "name": "stdout",
     "output_type": "stream",
     "text": [
      "Episode finished after 27956 timesteps\n"
     ]
    },
    {
     "name": "stderr",
     "output_type": "stream",
     "text": [
      " 96%|█████████▋| 28948/30000 [16:30<00:37, 27.90it/s]"
     ]
    },
    {
     "name": "stdout",
     "output_type": "stream",
     "text": [
      "Episode finished after 28944 timesteps\n"
     ]
    },
    {
     "name": "stderr",
     "output_type": "stream",
     "text": [
      " 98%|█████████▊| 29414/30000 [16:46<00:21, 27.32it/s]"
     ]
    },
    {
     "name": "stdout",
     "output_type": "stream",
     "text": [
      "Episode finished after 29411 timesteps\n"
     ]
    },
    {
     "name": "stderr",
     "output_type": "stream",
     "text": [
      "100%|██████████| 30000/30000 [17:06<00:00, 29.24it/s]\n"
     ]
    }
   ],
   "source": [
    "dyna_agent.training(30000,reset=True)"
   ]
  },
  {
   "cell_type": "code",
   "execution_count": 49,
   "metadata": {},
   "outputs": [],
   "source": [
    "dyna_agent.save_agent(\"dyna_agent0505-1116\")"
   ]
  },
  {
   "cell_type": "code",
   "execution_count": 76,
   "metadata": {},
   "outputs": [
    {
     "data": {
      "image/png": "[encoded data removed]",
      "text/plain": [
       "<Figure size 640x480 with 1 Axes>"
      ]
     },
     "metadata": {},
     "output_type": "display_data"
    }
   ],
   "source": [
    "nb_episodes_per_reward=[duration[1] for duration in dyna_agent.timesteps_per_reward]\n",
    "timesteps_reward=[duration[0] for duration in dyna_agent.timesteps_per_reward]\n",
    "plt.plot(range(len(nb_episodes_per_reward)),nb_episodes_per_reward)\n",
    "plt.xlabel(\"Number of times the agent has reached the goal\")\n",
    "plt.ylabel(\"Number of episodes between two rewards\")\n",
    "plt.savefig(\"plots/dyna/duration\")\n",
    "plt.show()"
   ]
  },
  {
   "cell_type": "code",
   "execution_count": 7,
   "metadata": {},
   "outputs": [],
   "source": [
    "Q=np.load(\"agents_saved/dyna_agent1/dyna_agent1_Q.npy\")"
   ]
  },
  {
   "cell_type": "code",
   "execution_count": 25,
   "metadata": {},
   "outputs": [],
   "source": [
    "agent=DynaAgent(env)\n",
    "agent.Q=Q\n",
    "agent.n_bins_x=72\n",
    "agent.n_bins_y=28"
   ]
  },
  {
   "cell_type": "code",
   "execution_count": 9,
   "metadata": {},
   "outputs": [
    {
     "data": {
      "text/plain": [
       "(2016, 3)"
      ]
     },
     "execution_count": 9,
     "metadata": {},
     "output_type": "execute_result"
    }
   ],
   "source": [
    "Q.shape"
   ]
  },
  {
   "cell_type": "code",
   "execution_count": 10,
   "metadata": {},
   "outputs": [
    {
     "data": {
      "text/plain": [
       "72.0"
      ]
     },
     "execution_count": 10,
     "metadata": {},
     "output_type": "execute_result"
    }
   ],
   "source": [
    "2016/28"
   ]
  },
  {
   "cell_type": "code",
   "execution_count": 14,
   "metadata": {},
   "outputs": [
    {
     "data": {
      "text/plain": [
       "array([0., 0., 0., ..., 0., 0., 0.])"
      ]
     },
     "execution_count": 14,
     "metadata": {},
     "output_type": "execute_result"
    }
   ],
   "source": [
    "Q[:,1]"
   ]
  },
  {
   "cell_type": "code",
   "execution_count": 74,
   "metadata": {},
   "outputs": [],
   "source": [
    "\n",
    "def show_max_Q(agent):\n",
    "    \"\"\"Plot max Q value for each state\n",
    "    Args:\n",
    "        agent: An agent object with Q-values and state bins attributes\n",
    "    \"\"\"\n",
    "    plt.figure(figsize=(10, 10))\n",
    "    \n",
    "    # Calculate max Q value per state and set zeros to NaN\n",
    "    max_Q = agent.Q.max(axis=-1).copy()\n",
    "    #max_Q[2000]=100\n",
    "    max_Q=max_Q.reshape((agent.n_bins_y+1), (agent.n_bins_x+1))\n",
    "    max_Q[max_Q == 0] = np.nan  # Replace zeros with NaN\n",
    "    \n",
    "    # Use imshow to plot, NaN values will not be displayed\n",
    "    plt.imshow(max_Q, origin='lower', aspect='auto', cmap='viridis',extent=[-1.2, 0.6, -0.07, 0.07])  # Added cmap for better color handling\n",
    "    plt.colorbar()\n",
    "    plt.title(\"Max Q value (after 30 000 episodes)\")\n",
    "    plt.xlabel(\"Position\")\n",
    "    plt.ylabel(\"Velocity\")\n",
    "    plt.savefig(\"plots/dyna/max_q\")\n",
    "    plt.show()"
   ]
  },
  {
   "cell_type": "code",
   "execution_count": null,
   "metadata": {},
   "outputs": [],
   "source": []
  },
  {
   "cell_type": "code",
   "execution_count": 57,
   "metadata": {},
   "outputs": [
    {
     "data": {
      "text/plain": [
       "(2117, 3)"
      ]
     },
     "execution_count": 57,
     "metadata": {},
     "output_type": "execute_result"
    }
   ],
   "source": [
    "dyna_agent.Q.shape"
   ]
  },
  {
   "cell_type": "code",
   "execution_count": 63,
   "metadata": {},
   "outputs": [
    {
     "data": {
      "text/plain": [
       "2117"
      ]
     },
     "execution_count": 63,
     "metadata": {},
     "output_type": "execute_result"
    }
   ],
   "source": [
    "(1+dyna_agent.n_bins_x)* (1+dyna_agent.n_bins_y)"
   ]
  },
  {
   "cell_type": "code",
   "execution_count": 75,
   "metadata": {},
   "outputs": [
    {
     "data": {
      "image/png": "[encoded data removed]",
      "text/plain": [
       "<Figure size 1000x1000 with 2 Axes>"
      ]
     },
     "metadata": {},
     "output_type": "display_data"
    }
   ],
   "source": [
    "show_max_Q(dyna_agent)"
   ]
  }
 ],
 "metadata": {
  "kernelspec": {
   "display_name": "base",
   "language": "python",
   "name": "python3"
  },
  "language_info": {
   "codemirror_mode": {
    "name": "ipython",
    "version": 3
   },
   "file_extension": ".py",
   "mimetype": "text/x-python",
   "name": "python",
   "nbconvert_exporter": "python",
   "pygments_lexer": "ipython3",
   "version": "3.8.18"
  }
 },
 "nbformat": 4,
 "nbformat_minor": 2
}
