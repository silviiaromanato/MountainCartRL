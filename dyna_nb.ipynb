{
 "cells": [
  {
   "cell_type": "code",
   "execution_count": 1,
   "metadata": {},
   "outputs": [],
   "source": [
    "import numpy as np\n",
    "import gymnasium as gym\n",
    "import matplotlib.pyplot as plt\n",
    "from time import time\n",
    "from tqdm import tqdm\n",
    "\n",
    "%load_ext autoreload\n",
    "%autoreload 2"
   ]
  },
  {
   "cell_type": "code",
   "execution_count": 2,
   "metadata": {},
   "outputs": [],
   "source": [
    "env = gym.make('MountainCar-v0', render_mode=\"rgb_array\")"
   ]
  },
  {
   "cell_type": "code",
   "execution_count": 3,
   "metadata": {},
   "outputs": [
    {
     "name": "stdout",
     "output_type": "stream",
     "text": [
      "Action space: Discrete(3)\n",
      "Observation space: Box([-1.2  -0.07], [0.6  0.07], (2,), float32)\n"
     ]
    }
   ],
   "source": [
    "print(f\"Action space: {env.action_space}\")\n",
    "print(f\"Observation space: {env.observation_space}\")"
   ]
  },
  {
   "cell_type": "code",
   "execution_count": 4,
   "metadata": {},
   "outputs": [
    {
     "name": "stdout",
     "output_type": "stream",
     "text": [
      "Starting state: [-0.53928685  0.        ]\n"
     ]
    }
   ],
   "source": [
    "starting_state, _ = env.reset() \n",
    "\n",
    "print(f\"Starting state: {starting_state}\")"
   ]
  },
  {
   "cell_type": "code",
   "execution_count": 5,
   "metadata": {},
   "outputs": [],
   "source": [
    "def discretize_position(position,size_bin_x,size_bin_y,xmin=-1.2,xmax=0.6,ymin=-0.07,ymax=0.07):\n",
    "    n_bins_x = int((xmax-xmin)/size_bin_x)\n",
    "    n_bins_y = int((ymax-ymin)/size_bin_y)\n",
    "    x = np.linspace(xmin,xmax,n_bins_x)\n",
    "    y = np.linspace(ymin,ymax,n_bins_y)\n",
    "    # print(f\"Number of bins in x: {n_bins_x}\")\n",
    "    # print(f\"Number of bins in y: {n_bins_y}\")\n",
    "    # print(y)\n",
    "    return np.digitize(position[0],x),np.digitize(position[1],y)"
   ]
  },
  {
   "cell_type": "code",
   "execution_count": 6,
   "metadata": {},
   "outputs": [
    {
     "data": {
      "text/plain": [
       "array([-0.43928685,  0.05      ])"
      ]
     },
     "execution_count": 6,
     "metadata": {},
     "output_type": "execute_result"
    }
   ],
   "source": [
    "starting_state+np.array([0.1,0.05])"
   ]
  },
  {
   "cell_type": "code",
   "execution_count": 7,
   "metadata": {},
   "outputs": [
    {
     "data": {
      "text/plain": [
       "(30, 14)"
      ]
     },
     "execution_count": 7,
     "metadata": {},
     "output_type": "execute_result"
    }
   ],
   "source": [
    "discretize_position(starting_state+np.array([0.1,0.00]),0.025,0.005)"
   ]
  },
  {
   "cell_type": "code",
   "execution_count": 67,
   "metadata": {},
   "outputs": [],
   "source": [
    "class DynaAgent():\n",
    "    def __init__(self,env,size_bin_x=0.025,size_bin_y=0.005,epsilon_start=0.1,epsilon_end=0.05,alpha=0.1,gamma=0.99,k=5):\n",
    "        self.env = env\n",
    "        \n",
    "        self.n_bins_x = int((env.observation_space.high[0]-env.observation_space.low[0])/size_bin_x)\n",
    "        # print(f\"Number of bins in x: {self.n_bins_x}\")\n",
    "        # print((env.observation_space.high[0]-env.observation_space.low[0])/size_bin_x)\n",
    "        assert (env.observation_space.high[0]-env.observation_space.low[0])/size_bin_x-self.n_bins_x<1e-5 , \"size_bin_x is not a divisor of the range of the x axis\"\n",
    "        self.n_bins_y= int((env.observation_space.high[1]-env.observation_space.low[1])/size_bin_y)\n",
    "        assert (env.observation_space.high[1]-env.observation_space.low[1])/size_bin_y-self.n_bins_y<1e-5 , \"size_bin_y is not a divisor of the range of the y axis\"\n",
    "        self.disc_step=np.array([size_bin_x,size_bin_y])\n",
    "        self.x_bins = np.linspace(env.observation_space.low[0],env.observation_space.high[0],self.n_bins_x)\n",
    "        self.y_bins= np.linspace(env.observation_space.low[1],env.observation_space.high[1],self.n_bins_y)\n",
    "        \n",
    "    \n",
    "        self.epsilon_start = epsilon_start\n",
    "        self.epsilon_end = epsilon_end\n",
    "        self.alpha = alpha\n",
    "        self.gamma = gamma\n",
    "        self.k=k\n",
    "        self.n_states= self.n_bins_x*self.n_bins_y\n",
    "        self.counts_total=np.zeros((self.n_states,3))\n",
    "        self.counts_transition=np.zeros((self.n_states,3,self.n_states))\n",
    "        self.P=np.ones((self.n_states,3,self.n_states))*1/self.n_states\n",
    "        self.R=np.zeros((self.n_states,3))\n",
    "        self.Q=np.zeros((self.n_states,3))\n",
    "        self.model = {}\n",
    "        \n",
    "        self.state_action_pairs_encontered = []\n",
    "        \n",
    "        self.state=self.discretize_position(env.reset()[0])\n",
    "    def discretize_position(self,position):\n",
    "        if np.digitize(position[0],self.x_bins)*np.digitize(position[1],self.y_bins)+np.digitize(position[1],self.y_bins)>=2016:\n",
    "            raise ValueError(f\"position: {position} is out of bounds\")\n",
    "        return np.digitize(position[0],self.x_bins)*np.digitize(position[1],self.y_bins)+np.digitize(position[1],self.y_bins)\n",
    "    \n",
    "    def update_P(self,state,action,next_state):\n",
    "        self.counts_total[state,action]+=1\n",
    "        self.counts_transition[state,action,next_state]+=1\n",
    "        old_p=self.P[state,action,next_state]\n",
    "        self.P[state,action,next_state]=self.P[state,action,next_state]+self.counts_transition[state,action,next_state]/(1+self.counts_total[state,action])\n",
    "        self.P[state,action]/=np.sum(self.P[state,action])\n",
    "        pass\n",
    "    \n",
    "    def update_R(self,state,action,reward):\n",
    "        self.R[state,action] = (self.R[state,action]*(self.counts_total[state,action]-1)+reward)/self.counts_total[state,action]\n",
    "        pass\n",
    "    \n",
    "    def update_Q(self,state,action):\n",
    "        self.Q[state][action]=self.R[state,action]+self.gamma*np.sum(self.P[state,action]*np.max(self.Q,axis=1))\n",
    "        pass\n",
    "        \n",
    "    def update_step(self,epsilon):\n",
    "        state=self.state\n",
    "        if np.random.rand()<epsilon:\n",
    "            action = np.random.choice([0,1,2])\n",
    "        else:\n",
    "            action = np.argmax(self.Q[state])\n",
    "        self.state_action_pairs_encontered.append((state,action))\n",
    "            \n",
    "        next_state, reward, done, _ ,_= self.env.step(action)\n",
    "        #print(next_state)\n",
    "        next_state=self.discretize_position(next_state)\n",
    "        #self.Q[state][action] += self.alpha*(reward+self.gamma*np.max(self.Q[next_state])-self.Q[state][action])# TO DOOOOOOOOOOOOOOto be changeddddddd\n",
    "        self.update_P(state,action,next_state)\n",
    "        self.update_R(state,action,reward)\n",
    "        #self.Q[state][action] = self.Q[state][action]+self.alpha*(reward+self.gamma*np.max(self.Q[next_state])-self.Q[state][action])\n",
    "        self.update_Q(state,action)\n",
    "        \n",
    "        self.state=next_state\n",
    "        \n",
    "        for planning_step in range(self.k):\n",
    "            state,action = self.state_action_pairs_encontered[np.random.choice(len(self.state_action_pairs_encontered))]\n",
    "            reward = self.R[state,action]\n",
    "            self.Q[state][action] =reward+self.gamma*np.sum(self.P[state,action]*np.max(self.Q,axis=1))#TO DOOOOOOOOOOOOOOOOOOOOOOOto be chnageddddddddddddddd\n",
    "        \n",
    "        pass\n",
    "    \n",
    "    def training(self,n_steps,reset=True):\n",
    "        print(\"Training...\")\n",
    "        if reset:\n",
    "            self.state=self.discretize_position(env.reset()[0])\n",
    "        else:\n",
    "            pass\n",
    "        epsilon = self.epsilon_start\n",
    "        \n",
    "        for i in tqdm(range(n_steps)):\n",
    "            self.update_step(epsilon)\n",
    "            #epsilon exponential decay:\n",
    "            epsilon = self.epsilon_end+(self.epsilon_start-self.epsilon_end)*np.exp(-i/1000)\n",
    "            # if i%1000==0:\n",
    "            #     print(np.max(self.Q))\n",
    "            \n",
    "        pass\n",
    "    \n",
    "    \n",
    "    def inference(self,max_steps):\n",
    "        frames=[]\n",
    "        state=self.discretize_position(self.env.reset()[0])\n",
    "        tot_reward=0\n",
    "        frames.append(self.env.render(mode=\"rgb_array\"))\n",
    "        self.env.render()\n",
    "        for i in tqdm(range(max_steps)):\n",
    "            action = np.argmax(self.Q[state])\n",
    "            next_state, reward, done, _ ,_= self.env.step(action)\n",
    "            next_state=self.discretize_position(next_state)\n",
    "            frames.append(self.env.render(mode=\"rgb_array\"))\n",
    "            tot_reward+=reward\n",
    "            state=next_state\n",
    "            if done:\n",
    "                print(f\"Episode finished after {i} timesteps\")\n",
    "                break\n",
    "        print(f'total reward: {tot_reward}')\n",
    "        return frames,tot_reward"
   ]
  },
  {
   "cell_type": "code",
   "execution_count": 68,
   "metadata": {},
   "outputs": [],
   "source": [
    "env = gym.make('MountainCar-v0', render_mode=\"human\")\n",
    "dyna_agent=DynaAgent(env)"
   ]
  },
  {
   "cell_type": "code",
   "execution_count": 70,
   "metadata": {},
   "outputs": [
    {
     "name": "stdout",
     "output_type": "stream",
     "text": [
      "Training...\n"
     ]
    },
    {
     "name": "stderr",
     "output_type": "stream",
     "text": [
      " 89%|████████▉ | 8891/10000 [05:00<00:37, 29.58it/s]\n"
     ]
    },
    {
     "ename": "KeyboardInterrupt",
     "evalue": "",
     "output_type": "error",
     "traceback": [
      "\u001b[1;31m---------------------------------------------------------------------------\u001b[0m",
      "\u001b[1;31mKeyboardInterrupt\u001b[0m                         Traceback (most recent call last)",
      "Cell \u001b[1;32mIn [70], line 1\u001b[0m\n\u001b[1;32m----> 1\u001b[0m \u001b[43mdyna_agent\u001b[49m\u001b[38;5;241;43m.\u001b[39;49m\u001b[43mtraining\u001b[49m\u001b[43m(\u001b[49m\u001b[38;5;241;43m10000\u001b[39;49m\u001b[43m,\u001b[49m\u001b[43mreset\u001b[49m\u001b[38;5;241;43m=\u001b[39;49m\u001b[38;5;28;43;01mFalse\u001b[39;49;00m\u001b[43m)\u001b[49m\n",
      "Cell \u001b[1;32mIn [67], line 88\u001b[0m, in \u001b[0;36mDynaAgent.training\u001b[1;34m(self, n_steps, reset)\u001b[0m\n\u001b[0;32m     85\u001b[0m epsilon \u001b[38;5;241m=\u001b[39m \u001b[38;5;28mself\u001b[39m\u001b[38;5;241m.\u001b[39mepsilon_start\n\u001b[0;32m     87\u001b[0m \u001b[38;5;28;01mfor\u001b[39;00m i \u001b[38;5;129;01min\u001b[39;00m tqdm(\u001b[38;5;28mrange\u001b[39m(n_steps)):\n\u001b[1;32m---> 88\u001b[0m     \u001b[38;5;28;43mself\u001b[39;49m\u001b[38;5;241;43m.\u001b[39;49m\u001b[43mupdate_step\u001b[49m\u001b[43m(\u001b[49m\u001b[43mepsilon\u001b[49m\u001b[43m)\u001b[49m\n\u001b[0;32m     89\u001b[0m     \u001b[38;5;66;03m#epsilon exponential decay:\u001b[39;00m\n\u001b[0;32m     90\u001b[0m     epsilon \u001b[38;5;241m=\u001b[39m \u001b[38;5;28mself\u001b[39m\u001b[38;5;241m.\u001b[39mepsilon_end\u001b[38;5;241m+\u001b[39m(\u001b[38;5;28mself\u001b[39m\u001b[38;5;241m.\u001b[39mepsilon_start\u001b[38;5;241m-\u001b[39m\u001b[38;5;28mself\u001b[39m\u001b[38;5;241m.\u001b[39mepsilon_end)\u001b[38;5;241m*\u001b[39mnp\u001b[38;5;241m.\u001b[39mexp(\u001b[38;5;241m-\u001b[39mi\u001b[38;5;241m/\u001b[39m\u001b[38;5;241m1000\u001b[39m)\n",
      "Cell \u001b[1;32mIn [67], line 61\u001b[0m, in \u001b[0;36mDynaAgent.update_step\u001b[1;34m(self, epsilon)\u001b[0m\n\u001b[0;32m     58\u001b[0m     action \u001b[38;5;241m=\u001b[39m np\u001b[38;5;241m.\u001b[39margmax(\u001b[38;5;28mself\u001b[39m\u001b[38;5;241m.\u001b[39mQ[state])\n\u001b[0;32m     59\u001b[0m \u001b[38;5;28mself\u001b[39m\u001b[38;5;241m.\u001b[39mstate_action_pairs_encontered\u001b[38;5;241m.\u001b[39mappend((state,action))\n\u001b[1;32m---> 61\u001b[0m next_state, reward, done, _ ,_\u001b[38;5;241m=\u001b[39m \u001b[38;5;28;43mself\u001b[39;49m\u001b[38;5;241;43m.\u001b[39;49m\u001b[43menv\u001b[49m\u001b[38;5;241;43m.\u001b[39;49m\u001b[43mstep\u001b[49m\u001b[43m(\u001b[49m\u001b[43maction\u001b[49m\u001b[43m)\u001b[49m\n\u001b[0;32m     62\u001b[0m \u001b[38;5;66;03m#print(next_state)\u001b[39;00m\n\u001b[0;32m     63\u001b[0m next_state\u001b[38;5;241m=\u001b[39m\u001b[38;5;28mself\u001b[39m\u001b[38;5;241m.\u001b[39mdiscretize_position(next_state)\n",
      "File \u001b[1;32mc:\\Users\\Alexi\\Anaconda\\lib\\site-packages\\gymnasium\\wrappers\\time_limit.py:57\u001b[0m, in \u001b[0;36mTimeLimit.step\u001b[1;34m(self, action)\u001b[0m\n\u001b[0;32m     46\u001b[0m \u001b[38;5;28;01mdef\u001b[39;00m \u001b[38;5;21mstep\u001b[39m(\u001b[38;5;28mself\u001b[39m, action):\n\u001b[0;32m     47\u001b[0m \u001b[38;5;250m    \u001b[39m\u001b[38;5;124;03m\"\"\"Steps through the environment and if the number of steps elapsed exceeds ``max_episode_steps`` then truncate.\u001b[39;00m\n\u001b[0;32m     48\u001b[0m \n\u001b[0;32m     49\u001b[0m \u001b[38;5;124;03m    Args:\u001b[39;00m\n\u001b[1;32m   (...)\u001b[0m\n\u001b[0;32m     55\u001b[0m \n\u001b[0;32m     56\u001b[0m \u001b[38;5;124;03m    \"\"\"\u001b[39;00m\n\u001b[1;32m---> 57\u001b[0m     observation, reward, terminated, truncated, info \u001b[38;5;241m=\u001b[39m \u001b[38;5;28;43mself\u001b[39;49m\u001b[38;5;241;43m.\u001b[39;49m\u001b[43menv\u001b[49m\u001b[38;5;241;43m.\u001b[39;49m\u001b[43mstep\u001b[49m\u001b[43m(\u001b[49m\u001b[43maction\u001b[49m\u001b[43m)\u001b[49m\n\u001b[0;32m     58\u001b[0m     \u001b[38;5;28mself\u001b[39m\u001b[38;5;241m.\u001b[39m_elapsed_steps \u001b[38;5;241m+\u001b[39m\u001b[38;5;241m=\u001b[39m \u001b[38;5;241m1\u001b[39m\n\u001b[0;32m     60\u001b[0m     \u001b[38;5;28;01mif\u001b[39;00m \u001b[38;5;28mself\u001b[39m\u001b[38;5;241m.\u001b[39m_elapsed_steps \u001b[38;5;241m>\u001b[39m\u001b[38;5;241m=\u001b[39m \u001b[38;5;28mself\u001b[39m\u001b[38;5;241m.\u001b[39m_max_episode_steps:\n",
      "File \u001b[1;32mc:\\Users\\Alexi\\Anaconda\\lib\\site-packages\\gymnasium\\wrappers\\order_enforcing.py:56\u001b[0m, in \u001b[0;36mOrderEnforcing.step\u001b[1;34m(self, action)\u001b[0m\n\u001b[0;32m     54\u001b[0m \u001b[38;5;28;01mif\u001b[39;00m \u001b[38;5;129;01mnot\u001b[39;00m \u001b[38;5;28mself\u001b[39m\u001b[38;5;241m.\u001b[39m_has_reset:\n\u001b[0;32m     55\u001b[0m     \u001b[38;5;28;01mraise\u001b[39;00m ResetNeeded(\u001b[38;5;124m\"\u001b[39m\u001b[38;5;124mCannot call env.step() before calling env.reset()\u001b[39m\u001b[38;5;124m\"\u001b[39m)\n\u001b[1;32m---> 56\u001b[0m \u001b[38;5;28;01mreturn\u001b[39;00m \u001b[38;5;28;43mself\u001b[39;49m\u001b[38;5;241;43m.\u001b[39;49m\u001b[43menv\u001b[49m\u001b[38;5;241;43m.\u001b[39;49m\u001b[43mstep\u001b[49m\u001b[43m(\u001b[49m\u001b[43maction\u001b[49m\u001b[43m)\u001b[49m\n",
      "File \u001b[1;32mc:\\Users\\Alexi\\Anaconda\\lib\\site-packages\\gymnasium\\wrappers\\env_checker.py:51\u001b[0m, in \u001b[0;36mPassiveEnvChecker.step\u001b[1;34m(self, action)\u001b[0m\n\u001b[0;32m     49\u001b[0m     \u001b[38;5;28;01mreturn\u001b[39;00m env_step_passive_checker(\u001b[38;5;28mself\u001b[39m\u001b[38;5;241m.\u001b[39menv, action)\n\u001b[0;32m     50\u001b[0m \u001b[38;5;28;01melse\u001b[39;00m:\n\u001b[1;32m---> 51\u001b[0m     \u001b[38;5;28;01mreturn\u001b[39;00m \u001b[38;5;28;43mself\u001b[39;49m\u001b[38;5;241;43m.\u001b[39;49m\u001b[43menv\u001b[49m\u001b[38;5;241;43m.\u001b[39;49m\u001b[43mstep\u001b[49m\u001b[43m(\u001b[49m\u001b[43maction\u001b[49m\u001b[43m)\u001b[49m\n",
      "File \u001b[1;32mc:\\Users\\Alexi\\Anaconda\\lib\\site-packages\\gymnasium\\envs\\classic_control\\mountain_car.py:148\u001b[0m, in \u001b[0;36mMountainCarEnv.step\u001b[1;34m(self, action)\u001b[0m\n\u001b[0;32m    146\u001b[0m \u001b[38;5;28mself\u001b[39m\u001b[38;5;241m.\u001b[39mstate \u001b[38;5;241m=\u001b[39m (position, velocity)\n\u001b[0;32m    147\u001b[0m \u001b[38;5;28;01mif\u001b[39;00m \u001b[38;5;28mself\u001b[39m\u001b[38;5;241m.\u001b[39mrender_mode \u001b[38;5;241m==\u001b[39m \u001b[38;5;124m\"\u001b[39m\u001b[38;5;124mhuman\u001b[39m\u001b[38;5;124m\"\u001b[39m:\n\u001b[1;32m--> 148\u001b[0m     \u001b[38;5;28;43mself\u001b[39;49m\u001b[38;5;241;43m.\u001b[39;49m\u001b[43mrender\u001b[49m\u001b[43m(\u001b[49m\u001b[43m)\u001b[49m\n\u001b[0;32m    149\u001b[0m \u001b[38;5;28;01mreturn\u001b[39;00m np\u001b[38;5;241m.\u001b[39marray(\u001b[38;5;28mself\u001b[39m\u001b[38;5;241m.\u001b[39mstate, dtype\u001b[38;5;241m=\u001b[39mnp\u001b[38;5;241m.\u001b[39mfloat32), reward, terminated, \u001b[38;5;28;01mFalse\u001b[39;00m, {}\n",
      "File \u001b[1;32mc:\\Users\\Alexi\\Anaconda\\lib\\site-packages\\gymnasium\\envs\\classic_control\\mountain_car.py:266\u001b[0m, in \u001b[0;36mMountainCarEnv.render\u001b[1;34m(self)\u001b[0m\n\u001b[0;32m    264\u001b[0m \u001b[38;5;28;01mif\u001b[39;00m \u001b[38;5;28mself\u001b[39m\u001b[38;5;241m.\u001b[39mrender_mode \u001b[38;5;241m==\u001b[39m \u001b[38;5;124m\"\u001b[39m\u001b[38;5;124mhuman\u001b[39m\u001b[38;5;124m\"\u001b[39m:\n\u001b[0;32m    265\u001b[0m     pygame\u001b[38;5;241m.\u001b[39mevent\u001b[38;5;241m.\u001b[39mpump()\n\u001b[1;32m--> 266\u001b[0m     \u001b[38;5;28;43mself\u001b[39;49m\u001b[38;5;241;43m.\u001b[39;49m\u001b[43mclock\u001b[49m\u001b[38;5;241;43m.\u001b[39;49m\u001b[43mtick\u001b[49m\u001b[43m(\u001b[49m\u001b[38;5;28;43mself\u001b[39;49m\u001b[38;5;241;43m.\u001b[39;49m\u001b[43mmetadata\u001b[49m\u001b[43m[\u001b[49m\u001b[38;5;124;43m\"\u001b[39;49m\u001b[38;5;124;43mrender_fps\u001b[39;49m\u001b[38;5;124;43m\"\u001b[39;49m\u001b[43m]\u001b[49m\u001b[43m)\u001b[49m\n\u001b[0;32m    267\u001b[0m     pygame\u001b[38;5;241m.\u001b[39mdisplay\u001b[38;5;241m.\u001b[39mflip()\n\u001b[0;32m    269\u001b[0m \u001b[38;5;28;01melif\u001b[39;00m \u001b[38;5;28mself\u001b[39m\u001b[38;5;241m.\u001b[39mrender_mode \u001b[38;5;241m==\u001b[39m \u001b[38;5;124m\"\u001b[39m\u001b[38;5;124mrgb_array\u001b[39m\u001b[38;5;124m\"\u001b[39m:\n",
      "\u001b[1;31mKeyboardInterrupt\u001b[0m: "
     ]
    }
   ],
   "source": [
    "dyna_agent.training(10000,reset=False)"
   ]
  },
  {
   "cell_type": "code",
   "execution_count": null,
   "metadata": {},
   "outputs": [],
   "source": []
  }
 ],
 "metadata": {
  "kernelspec": {
   "display_name": "base",
   "language": "python",
   "name": "python3"
  },
  "language_info": {
   "codemirror_mode": {
    "name": "ipython",
    "version": 3
   },
   "file_extension": ".py",
   "mimetype": "text/x-python",
   "name": "python",
   "nbconvert_exporter": "python",
   "pygments_lexer": "ipython3",
   "version": "3.8.18"
  }
 },
 "nbformat": 4,
 "nbformat_minor": 2
}
